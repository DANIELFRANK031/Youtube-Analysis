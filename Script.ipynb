{
 "cells": [
  {
   "cell_type": "code",
   "execution_count": 1,
   "id": "99bfb25a",
   "metadata": {},
   "outputs": [],
   "source": [
    "import pandas as pd"
   ]
  },
  {
   "cell_type": "code",
   "execution_count": 2,
   "id": "2b6bcbfb",
   "metadata": {},
   "outputs": [],
   "source": [
    "df=pd.read_csv('youtube_data_from_python.csv')"
   ]
  },
  {
   "cell_type": "code",
   "execution_count": 3,
   "id": "aa788d41",
   "metadata": {},
   "outputs": [
    {
     "data": {
      "text/html": [
       "<div>\n",
       "<style scoped>\n",
       "    .dataframe tbody tr th:only-of-type {\n",
       "        vertical-align: middle;\n",
       "    }\n",
       "\n",
       "    .dataframe tbody tr th {\n",
       "        vertical-align: top;\n",
       "    }\n",
       "\n",
       "    .dataframe thead th {\n",
       "        text-align: right;\n",
       "    }\n",
       "</style>\n",
       "<table border=\"1\" class=\"dataframe\">\n",
       "  <thead>\n",
       "    <tr style=\"text-align: right;\">\n",
       "      <th></th>\n",
       "      <th>#</th>\n",
       "      <th>NOMBRE</th>\n",
       "      <th>SEGUIDORES</th>\n",
       "      <th>TP</th>\n",
       "      <th>PAÍS</th>\n",
       "      <th>TEMA DE INFLUENCIA</th>\n",
       "      <th>ALCANCE POTENCIAL</th>\n",
       "      <th>GUARDAR</th>\n",
       "      <th>INVITAR A LA CAMPAÑA</th>\n",
       "      <th>channel_name</th>\n",
       "      <th>total_subscribers</th>\n",
       "      <th>total_views</th>\n",
       "      <th>total_videos</th>\n",
       "      <th>Unnamed: 13</th>\n",
       "    </tr>\n",
       "  </thead>\n",
       "  <tbody>\n",
       "    <tr>\n",
       "      <th>0</th>\n",
       "      <td>1</td>\n",
       "      <td>NoCopyrightSounds @UC_aEa8K-EOJ3D6gOs7HcyNg</td>\n",
       "      <td>32.9M</td>\n",
       "      <td>-</td>\n",
       "      <td>Reino Unido</td>\n",
       "      <td>Música</td>\n",
       "      <td>9.9M</td>\n",
       "      <td>NaN</td>\n",
       "      <td>Ver Perfil</td>\n",
       "      <td>NoCopyrightSounds</td>\n",
       "      <td>33600000</td>\n",
       "      <td>11011230785</td>\n",
       "      <td>1591</td>\n",
       "      <td></td>\n",
       "    </tr>\n",
       "    <tr>\n",
       "      <th>1</th>\n",
       "      <td>2</td>\n",
       "      <td>DanTDM @UCS5Oz6CHmeoF7vSad0qqXfw</td>\n",
       "      <td>26.3M</td>\n",
       "      <td>-</td>\n",
       "      <td>Reino Unido</td>\n",
       "      <td>NaN</td>\n",
       "      <td>7.9M</td>\n",
       "      <td>NaN</td>\n",
       "      <td>Ver Perfil</td>\n",
       "      <td>DanTDM</td>\n",
       "      <td>28600000</td>\n",
       "      <td>19775951435</td>\n",
       "      <td>3705</td>\n",
       "      <td>NaN</td>\n",
       "    </tr>\n",
       "    <tr>\n",
       "      <th>2</th>\n",
       "      <td>3</td>\n",
       "      <td>KSI @UCVtFOytbRpEvzLjvqGG5gxQ</td>\n",
       "      <td>24M</td>\n",
       "      <td>-</td>\n",
       "      <td>Reino Unido</td>\n",
       "      <td>NaN</td>\n",
       "      <td>7.2M</td>\n",
       "      <td>NaN</td>\n",
       "      <td>Ver Perfil</td>\n",
       "      <td>KSI</td>\n",
       "      <td>24100000</td>\n",
       "      <td>6015064768</td>\n",
       "      <td>1252</td>\n",
       "      <td>NaN</td>\n",
       "    </tr>\n",
       "    <tr>\n",
       "      <th>3</th>\n",
       "      <td>4</td>\n",
       "      <td>Mister Max @UC_8PAD0Qmi6_gpe77S1Atgg</td>\n",
       "      <td>23M</td>\n",
       "      <td>0.10%</td>\n",
       "      <td>Reino Unido</td>\n",
       "      <td>NaN</td>\n",
       "      <td>6.9M</td>\n",
       "      <td>NaN</td>\n",
       "      <td>Ver Perfil</td>\n",
       "      <td>Mister Max</td>\n",
       "      <td>24400000</td>\n",
       "      <td>15973601417</td>\n",
       "      <td>1136</td>\n",
       "      <td>NaN</td>\n",
       "    </tr>\n",
       "    <tr>\n",
       "      <th>4</th>\n",
       "      <td>5</td>\n",
       "      <td>Jelly @UC0DZmkupLYwc0yDsfocLh0A</td>\n",
       "      <td>22.9M</td>\n",
       "      <td>-</td>\n",
       "      <td>Reino Unido</td>\n",
       "      <td>NaN</td>\n",
       "      <td>6.9M</td>\n",
       "      <td>NaN</td>\n",
       "      <td>Ver Perfil</td>\n",
       "      <td>Jelly</td>\n",
       "      <td>23500000</td>\n",
       "      <td>15032515044</td>\n",
       "      <td>6331</td>\n",
       "      <td>NaN</td>\n",
       "    </tr>\n",
       "  </tbody>\n",
       "</table>\n",
       "</div>"
      ],
      "text/plain": [
       "   #                                       NOMBRE SEGUIDORES     TP  \\\n",
       "0  1  NoCopyrightSounds @UC_aEa8K-EOJ3D6gOs7HcyNg      32.9M      -   \n",
       "1  2             DanTDM @UCS5Oz6CHmeoF7vSad0qqXfw      26.3M      -   \n",
       "2  3                KSI @UCVtFOytbRpEvzLjvqGG5gxQ        24M      -   \n",
       "3  4         Mister Max @UC_8PAD0Qmi6_gpe77S1Atgg        23M  0.10%   \n",
       "4  5              Jelly @UC0DZmkupLYwc0yDsfocLh0A      22.9M      -   \n",
       "\n",
       "          PAÍS TEMA DE INFLUENCIA ALCANCE POTENCIAL  GUARDAR  \\\n",
       "0  Reino Unido             Música              9.9M      NaN   \n",
       "1  Reino Unido                NaN              7.9M      NaN   \n",
       "2  Reino Unido                NaN              7.2M      NaN   \n",
       "3  Reino Unido                NaN              6.9M      NaN   \n",
       "4  Reino Unido                NaN              6.9M      NaN   \n",
       "\n",
       "  INVITAR A LA CAMPAÑA       channel_name  total_subscribers  total_views  \\\n",
       "0           Ver Perfil  NoCopyrightSounds           33600000  11011230785   \n",
       "1           Ver Perfil             DanTDM           28600000  19775951435   \n",
       "2           Ver Perfil                KSI           24100000   6015064768   \n",
       "3           Ver Perfil         Mister Max           24400000  15973601417   \n",
       "4           Ver Perfil              Jelly           23500000  15032515044   \n",
       "\n",
       "   total_videos Unnamed: 13  \n",
       "0          1591              \n",
       "1          3705         NaN  \n",
       "2          1252         NaN  \n",
       "3          1136         NaN  \n",
       "4          6331         NaN  "
      ]
     },
     "execution_count": 3,
     "metadata": {},
     "output_type": "execute_result"
    }
   ],
   "source": [
    "df.head()"
   ]
  },
  {
   "cell_type": "code",
   "execution_count": 4,
   "id": "affdeb47",
   "metadata": {},
   "outputs": [
    {
     "name": "stdout",
     "output_type": "stream",
     "text": [
      "<class 'pandas.core.frame.DataFrame'>\n",
      "RangeIndex: 100 entries, 0 to 99\n",
      "Data columns (total 14 columns):\n",
      " #   Column                Non-Null Count  Dtype  \n",
      "---  ------                --------------  -----  \n",
      " 0   #                     100 non-null    int64  \n",
      " 1   NOMBRE                100 non-null    object \n",
      " 2   SEGUIDORES            100 non-null    object \n",
      " 3   TP                    100 non-null    object \n",
      " 4   PAÍS                  100 non-null    object \n",
      " 5   TEMA DE INFLUENCIA    9 non-null      object \n",
      " 6   ALCANCE POTENCIAL     100 non-null    object \n",
      " 7   GUARDAR               0 non-null      float64\n",
      " 8   INVITAR A LA CAMPAÑA  100 non-null    object \n",
      " 9   channel_name          100 non-null    object \n",
      " 10  total_subscribers     100 non-null    int64  \n",
      " 11  total_views           100 non-null    int64  \n",
      " 12  total_videos          100 non-null    int64  \n",
      " 13  Unnamed: 13           1 non-null      object \n",
      "dtypes: float64(1), int64(4), object(9)\n",
      "memory usage: 11.1+ KB\n"
     ]
    }
   ],
   "source": [
    "df.info()"
   ]
  },
  {
   "cell_type": "code",
   "execution_count": 5,
   "id": "c772f9c6",
   "metadata": {},
   "outputs": [
    {
     "data": {
      "text/plain": [
       "Index(['#', 'NOMBRE', 'SEGUIDORES', 'TP', 'PAÍS', 'TEMA DE INFLUENCIA',\n",
       "       'ALCANCE POTENCIAL', 'GUARDAR', 'INVITAR A LA CAMPAÑA', 'channel_name',\n",
       "       'total_subscribers', 'total_views', 'total_videos', 'Unnamed: 13'],\n",
       "      dtype='object')"
      ]
     },
     "execution_count": 5,
     "metadata": {},
     "output_type": "execute_result"
    }
   ],
   "source": [
    "df.columns"
   ]
  },
  {
   "cell_type": "code",
   "execution_count": 6,
   "id": "3c49eea4",
   "metadata": {},
   "outputs": [],
   "source": [
    "Newdf=df[['channel_name','total_subscribers','total_views','total_videos',]]"
   ]
  },
  {
   "cell_type": "code",
   "execution_count": 7,
   "id": "6eaddbd9",
   "metadata": {},
   "outputs": [
    {
     "data": {
      "text/html": [
       "<div>\n",
       "<style scoped>\n",
       "    .dataframe tbody tr th:only-of-type {\n",
       "        vertical-align: middle;\n",
       "    }\n",
       "\n",
       "    .dataframe tbody tr th {\n",
       "        vertical-align: top;\n",
       "    }\n",
       "\n",
       "    .dataframe thead th {\n",
       "        text-align: right;\n",
       "    }\n",
       "</style>\n",
       "<table border=\"1\" class=\"dataframe\">\n",
       "  <thead>\n",
       "    <tr style=\"text-align: right;\">\n",
       "      <th></th>\n",
       "      <th>channel_name</th>\n",
       "      <th>total_subscribers</th>\n",
       "      <th>total_views</th>\n",
       "      <th>total_videos</th>\n",
       "    </tr>\n",
       "  </thead>\n",
       "  <tbody>\n",
       "    <tr>\n",
       "      <th>0</th>\n",
       "      <td>NoCopyrightSounds</td>\n",
       "      <td>33600000</td>\n",
       "      <td>11011230785</td>\n",
       "      <td>1591</td>\n",
       "    </tr>\n",
       "    <tr>\n",
       "      <th>1</th>\n",
       "      <td>DanTDM</td>\n",
       "      <td>28600000</td>\n",
       "      <td>19775951435</td>\n",
       "      <td>3705</td>\n",
       "    </tr>\n",
       "    <tr>\n",
       "      <th>2</th>\n",
       "      <td>KSI</td>\n",
       "      <td>24100000</td>\n",
       "      <td>6015064768</td>\n",
       "      <td>1252</td>\n",
       "    </tr>\n",
       "    <tr>\n",
       "      <th>3</th>\n",
       "      <td>Mister Max</td>\n",
       "      <td>24400000</td>\n",
       "      <td>15973601417</td>\n",
       "      <td>1136</td>\n",
       "    </tr>\n",
       "    <tr>\n",
       "      <th>4</th>\n",
       "      <td>Jelly</td>\n",
       "      <td>23500000</td>\n",
       "      <td>15032515044</td>\n",
       "      <td>6331</td>\n",
       "    </tr>\n",
       "  </tbody>\n",
       "</table>\n",
       "</div>"
      ],
      "text/plain": [
       "        channel_name  total_subscribers  total_views  total_videos\n",
       "0  NoCopyrightSounds           33600000  11011230785          1591\n",
       "1             DanTDM           28600000  19775951435          3705\n",
       "2                KSI           24100000   6015064768          1252\n",
       "3         Mister Max           24400000  15973601417          1136\n",
       "4              Jelly           23500000  15032515044          6331"
      ]
     },
     "execution_count": 7,
     "metadata": {},
     "output_type": "execute_result"
    }
   ],
   "source": [
    "Newdf.head()"
   ]
  },
  {
   "cell_type": "code",
   "execution_count": 8,
   "id": "ef2c4bf3",
   "metadata": {},
   "outputs": [
    {
     "name": "stdout",
     "output_type": "stream",
     "text": [
      "<class 'pandas.core.frame.DataFrame'>\n",
      "RangeIndex: 100 entries, 0 to 99\n",
      "Data columns (total 4 columns):\n",
      " #   Column             Non-Null Count  Dtype \n",
      "---  ------             --------------  ----- \n",
      " 0   channel_name       100 non-null    object\n",
      " 1   total_subscribers  100 non-null    int64 \n",
      " 2   total_views        100 non-null    int64 \n",
      " 3   total_videos       100 non-null    int64 \n",
      "dtypes: int64(3), object(1)\n",
      "memory usage: 3.3+ KB\n"
     ]
    }
   ],
   "source": [
    "Newdf.info()"
   ]
  },
  {
   "cell_type": "markdown",
   "id": "47ec91e1",
   "metadata": {},
   "source": [
    "# Checking for Nan values"
   ]
  },
  {
   "cell_type": "code",
   "execution_count": 10,
   "id": "d6a97ab3",
   "metadata": {},
   "outputs": [
    {
     "data": {
      "text/plain": [
       "channel_name         0\n",
       "total_subscribers    0\n",
       "total_views          0\n",
       "total_videos         0\n",
       "dtype: int64"
      ]
     },
     "execution_count": 10,
     "metadata": {},
     "output_type": "execute_result"
    }
   ],
   "source": [
    "Newdf.isna().sum()  #There are no null values in the newdataframe"
   ]
  },
  {
   "cell_type": "markdown",
   "id": "58dcfd9c",
   "metadata": {},
   "source": [
    "# Checking for duplicated values"
   ]
  },
  {
   "cell_type": "code",
   "execution_count": 15,
   "id": "1020829f",
   "metadata": {},
   "outputs": [
    {
     "data": {
      "text/plain": [
       "0"
      ]
     },
     "execution_count": 15,
     "metadata": {},
     "output_type": "execute_result"
    }
   ],
   "source": [
    "Newdf['channel_name'].duplicated().sum()  "
   ]
  },
  {
   "cell_type": "markdown",
   "id": "76dbcd58",
   "metadata": {},
   "source": [
    "# Checking for the data types"
   ]
  },
  {
   "cell_type": "code",
   "execution_count": 17,
   "id": "5cd9a86a",
   "metadata": {},
   "outputs": [
    {
     "data": {
      "text/plain": [
       "channel_name         object\n",
       "total_subscribers     int64\n",
       "total_views           int64\n",
       "total_videos          int64\n",
       "dtype: object"
      ]
     },
     "execution_count": 17,
     "metadata": {},
     "output_type": "execute_result"
    }
   ],
   "source": [
    "Newdf.dtype"
   ]
  },
  {
   "cell_type": "markdown",
   "id": "0b3f9fe0",
   "metadata": {},
   "source": [
    "# creating a new colunm(average_views) then rounding up"
   ]
  },
  {
   "cell_type": "code",
   "execution_count": 23,
   "id": "3efca613",
   "metadata": {},
   "outputs": [
    {
     "name": "stderr",
     "output_type": "stream",
     "text": [
      "C:\\Users\\USER\\AppData\\Local\\Temp\\ipykernel_17124\\2590710387.py:1: SettingWithCopyWarning: \n",
      "A value is trying to be set on a copy of a slice from a DataFrame.\n",
      "Try using .loc[row_indexer,col_indexer] = value instead\n",
      "\n",
      "See the caveats in the documentation: https://pandas.pydata.org/pandas-docs/stable/user_guide/indexing.html#returning-a-view-versus-a-copy\n",
      "  Newdf['average_views']=round(Newdf['total_views'] / Newdf['total_videos'])\n"
     ]
    }
   ],
   "source": [
    "Newdf['average_views']=round(Newdf['total_views'] / Newdf['total_videos'])\n"
   ]
  },
  {
   "cell_type": "code",
   "execution_count": 24,
   "id": "02c29c84",
   "metadata": {},
   "outputs": [
    {
     "data": {
      "text/html": [
       "<div>\n",
       "<style scoped>\n",
       "    .dataframe tbody tr th:only-of-type {\n",
       "        vertical-align: middle;\n",
       "    }\n",
       "\n",
       "    .dataframe tbody tr th {\n",
       "        vertical-align: top;\n",
       "    }\n",
       "\n",
       "    .dataframe thead th {\n",
       "        text-align: right;\n",
       "    }\n",
       "</style>\n",
       "<table border=\"1\" class=\"dataframe\">\n",
       "  <thead>\n",
       "    <tr style=\"text-align: right;\">\n",
       "      <th></th>\n",
       "      <th>channel_name</th>\n",
       "      <th>total_subscribers</th>\n",
       "      <th>total_views</th>\n",
       "      <th>total_videos</th>\n",
       "      <th>average_views</th>\n",
       "    </tr>\n",
       "  </thead>\n",
       "  <tbody>\n",
       "    <tr>\n",
       "      <th>0</th>\n",
       "      <td>NoCopyrightSounds</td>\n",
       "      <td>33600000</td>\n",
       "      <td>11011230785</td>\n",
       "      <td>1591</td>\n",
       "      <td>6920950.0</td>\n",
       "    </tr>\n",
       "    <tr>\n",
       "      <th>1</th>\n",
       "      <td>DanTDM</td>\n",
       "      <td>28600000</td>\n",
       "      <td>19775951435</td>\n",
       "      <td>3705</td>\n",
       "      <td>5337639.0</td>\n",
       "    </tr>\n",
       "    <tr>\n",
       "      <th>2</th>\n",
       "      <td>KSI</td>\n",
       "      <td>24100000</td>\n",
       "      <td>6015064768</td>\n",
       "      <td>1252</td>\n",
       "      <td>4804365.0</td>\n",
       "    </tr>\n",
       "    <tr>\n",
       "      <th>3</th>\n",
       "      <td>Mister Max</td>\n",
       "      <td>24400000</td>\n",
       "      <td>15973601417</td>\n",
       "      <td>1136</td>\n",
       "      <td>14061269.0</td>\n",
       "    </tr>\n",
       "    <tr>\n",
       "      <th>4</th>\n",
       "      <td>Jelly</td>\n",
       "      <td>23500000</td>\n",
       "      <td>15032515044</td>\n",
       "      <td>6331</td>\n",
       "      <td>2374430.0</td>\n",
       "    </tr>\n",
       "  </tbody>\n",
       "</table>\n",
       "</div>"
      ],
      "text/plain": [
       "        channel_name  total_subscribers  total_views  total_videos  \\\n",
       "0  NoCopyrightSounds           33600000  11011230785          1591   \n",
       "1             DanTDM           28600000  19775951435          3705   \n",
       "2                KSI           24100000   6015064768          1252   \n",
       "3         Mister Max           24400000  15973601417          1136   \n",
       "4              Jelly           23500000  15032515044          6331   \n",
       "\n",
       "   average_views  \n",
       "0      6920950.0  \n",
       "1      5337639.0  \n",
       "2      4804365.0  \n",
       "3     14061269.0  \n",
       "4      2374430.0  "
      ]
     },
     "execution_count": 24,
     "metadata": {},
     "output_type": "execute_result"
    }
   ],
   "source": [
    "Newdf.head()"
   ]
  },
  {
   "cell_type": "markdown",
   "id": "6acfcf3a",
   "metadata": {},
   "source": [
    "# Sorting values of columns from highest-lowest"
   ]
  },
  {
   "cell_type": "code",
   "execution_count": 28,
   "id": "c1600e30",
   "metadata": {},
   "outputs": [
    {
     "data": {
      "text/html": [
       "<div>\n",
       "<style scoped>\n",
       "    .dataframe tbody tr th:only-of-type {\n",
       "        vertical-align: middle;\n",
       "    }\n",
       "\n",
       "    .dataframe tbody tr th {\n",
       "        vertical-align: top;\n",
       "    }\n",
       "\n",
       "    .dataframe thead th {\n",
       "        text-align: right;\n",
       "    }\n",
       "</style>\n",
       "<table border=\"1\" class=\"dataframe\">\n",
       "  <thead>\n",
       "    <tr style=\"text-align: right;\">\n",
       "      <th></th>\n",
       "      <th>channel_name</th>\n",
       "      <th>total_subscribers</th>\n",
       "      <th>total_views</th>\n",
       "      <th>total_videos</th>\n",
       "      <th>average_views</th>\n",
       "    </tr>\n",
       "  </thead>\n",
       "  <tbody>\n",
       "    <tr>\n",
       "      <th>1</th>\n",
       "      <td>DanTDM</td>\n",
       "      <td>28600000</td>\n",
       "      <td>19775951435</td>\n",
       "      <td>3705</td>\n",
       "      <td>5337639.0</td>\n",
       "    </tr>\n",
       "    <tr>\n",
       "      <th>7</th>\n",
       "      <td>Dan Rhodes</td>\n",
       "      <td>26500000</td>\n",
       "      <td>18558843557</td>\n",
       "      <td>1664</td>\n",
       "      <td>11153151.0</td>\n",
       "    </tr>\n",
       "    <tr>\n",
       "      <th>3</th>\n",
       "      <td>Mister Max</td>\n",
       "      <td>24400000</td>\n",
       "      <td>15973601417</td>\n",
       "      <td>1136</td>\n",
       "      <td>14061269.0</td>\n",
       "    </tr>\n",
       "    <tr>\n",
       "      <th>5</th>\n",
       "      <td>Miss Katy</td>\n",
       "      <td>24500000</td>\n",
       "      <td>15462895287</td>\n",
       "      <td>1079</td>\n",
       "      <td>14330765.0</td>\n",
       "    </tr>\n",
       "    <tr>\n",
       "      <th>4</th>\n",
       "      <td>Jelly</td>\n",
       "      <td>23500000</td>\n",
       "      <td>15032515044</td>\n",
       "      <td>6331</td>\n",
       "      <td>2374430.0</td>\n",
       "    </tr>\n",
       "  </tbody>\n",
       "</table>\n",
       "</div>"
      ],
      "text/plain": [
       "  channel_name  total_subscribers  total_views  total_videos  average_views\n",
       "1       DanTDM           28600000  19775951435          3705      5337639.0\n",
       "7   Dan Rhodes           26500000  18558843557          1664     11153151.0\n",
       "3   Mister Max           24400000  15973601417          1136     14061269.0\n",
       "5    Miss Katy           24500000  15462895287          1079     14330765.0\n",
       "4        Jelly           23500000  15032515044          6331      2374430.0"
      ]
     },
     "execution_count": 28,
     "metadata": {},
     "output_type": "execute_result"
    }
   ],
   "source": [
    "Newdf.sort_values(by=['total_views'],ascending=False).head()"
   ]
  },
  {
   "cell_type": "code",
   "execution_count": 29,
   "id": "ba3d7c8e",
   "metadata": {},
   "outputs": [
    {
     "data": {
      "text/html": [
       "<div>\n",
       "<style scoped>\n",
       "    .dataframe tbody tr th:only-of-type {\n",
       "        vertical-align: middle;\n",
       "    }\n",
       "\n",
       "    .dataframe tbody tr th {\n",
       "        vertical-align: top;\n",
       "    }\n",
       "\n",
       "    .dataframe thead th {\n",
       "        text-align: right;\n",
       "    }\n",
       "</style>\n",
       "<table border=\"1\" class=\"dataframe\">\n",
       "  <thead>\n",
       "    <tr style=\"text-align: right;\">\n",
       "      <th></th>\n",
       "      <th>channel_name</th>\n",
       "      <th>total_subscribers</th>\n",
       "      <th>total_views</th>\n",
       "      <th>total_videos</th>\n",
       "      <th>average_views</th>\n",
       "    </tr>\n",
       "  </thead>\n",
       "  <tbody>\n",
       "    <tr>\n",
       "      <th>61</th>\n",
       "      <td>24 News HD</td>\n",
       "      <td>7710000</td>\n",
       "      <td>3392912536</td>\n",
       "      <td>165103</td>\n",
       "      <td>20550.0</td>\n",
       "    </tr>\n",
       "    <tr>\n",
       "      <th>87</th>\n",
       "      <td>Sky News</td>\n",
       "      <td>7540000</td>\n",
       "      <td>4282633039</td>\n",
       "      <td>46009</td>\n",
       "      <td>93083.0</td>\n",
       "    </tr>\n",
       "    <tr>\n",
       "      <th>29</th>\n",
       "      <td>BBC News عربي</td>\n",
       "      <td>11500000</td>\n",
       "      <td>4858222538</td>\n",
       "      <td>40179</td>\n",
       "      <td>120914.0</td>\n",
       "    </tr>\n",
       "    <tr>\n",
       "      <th>15</th>\n",
       "      <td>BBC News</td>\n",
       "      <td>15800000</td>\n",
       "      <td>5219037615</td>\n",
       "      <td>21145</td>\n",
       "      <td>246821.0</td>\n",
       "    </tr>\n",
       "    <tr>\n",
       "      <th>16</th>\n",
       "      <td>BBC</td>\n",
       "      <td>14100000</td>\n",
       "      <td>10345796779</td>\n",
       "      <td>18714</td>\n",
       "      <td>552837.0</td>\n",
       "    </tr>\n",
       "  </tbody>\n",
       "</table>\n",
       "</div>"
      ],
      "text/plain": [
       "     channel_name  total_subscribers  total_views  total_videos  average_views\n",
       "61     24 News HD            7710000   3392912536        165103        20550.0\n",
       "87       Sky News            7540000   4282633039         46009        93083.0\n",
       "29  BBC News عربي           11500000   4858222538         40179       120914.0\n",
       "15       BBC News           15800000   5219037615         21145       246821.0\n",
       "16            BBC           14100000  10345796779         18714       552837.0"
      ]
     },
     "execution_count": 29,
     "metadata": {},
     "output_type": "execute_result"
    }
   ],
   "source": [
    "Newdf.sort_values(by=['total_videos'],ascending=False).head()"
   ]
  },
  {
   "cell_type": "code",
   "execution_count": 30,
   "id": "881d35d9",
   "metadata": {},
   "outputs": [
    {
     "data": {
      "text/html": [
       "<div>\n",
       "<style scoped>\n",
       "    .dataframe tbody tr th:only-of-type {\n",
       "        vertical-align: middle;\n",
       "    }\n",
       "\n",
       "    .dataframe tbody tr th {\n",
       "        vertical-align: top;\n",
       "    }\n",
       "\n",
       "    .dataframe thead th {\n",
       "        text-align: right;\n",
       "    }\n",
       "</style>\n",
       "<table border=\"1\" class=\"dataframe\">\n",
       "  <thead>\n",
       "    <tr style=\"text-align: right;\">\n",
       "      <th></th>\n",
       "      <th>channel_name</th>\n",
       "      <th>total_subscribers</th>\n",
       "      <th>total_views</th>\n",
       "      <th>total_videos</th>\n",
       "      <th>average_views</th>\n",
       "    </tr>\n",
       "  </thead>\n",
       "  <tbody>\n",
       "    <tr>\n",
       "      <th>0</th>\n",
       "      <td>NoCopyrightSounds</td>\n",
       "      <td>33600000</td>\n",
       "      <td>11011230785</td>\n",
       "      <td>1591</td>\n",
       "      <td>6920950.0</td>\n",
       "    </tr>\n",
       "    <tr>\n",
       "      <th>1</th>\n",
       "      <td>DanTDM</td>\n",
       "      <td>28600000</td>\n",
       "      <td>19775951435</td>\n",
       "      <td>3705</td>\n",
       "      <td>5337639.0</td>\n",
       "    </tr>\n",
       "    <tr>\n",
       "      <th>7</th>\n",
       "      <td>Dan Rhodes</td>\n",
       "      <td>26500000</td>\n",
       "      <td>18558843557</td>\n",
       "      <td>1664</td>\n",
       "      <td>11153151.0</td>\n",
       "    </tr>\n",
       "    <tr>\n",
       "      <th>5</th>\n",
       "      <td>Miss Katy</td>\n",
       "      <td>24500000</td>\n",
       "      <td>15462895287</td>\n",
       "      <td>1079</td>\n",
       "      <td>14330765.0</td>\n",
       "    </tr>\n",
       "    <tr>\n",
       "      <th>3</th>\n",
       "      <td>Mister Max</td>\n",
       "      <td>24400000</td>\n",
       "      <td>15973601417</td>\n",
       "      <td>1136</td>\n",
       "      <td>14061269.0</td>\n",
       "    </tr>\n",
       "  </tbody>\n",
       "</table>\n",
       "</div>"
      ],
      "text/plain": [
       "        channel_name  total_subscribers  total_views  total_videos  \\\n",
       "0  NoCopyrightSounds           33600000  11011230785          1591   \n",
       "1             DanTDM           28600000  19775951435          3705   \n",
       "7         Dan Rhodes           26500000  18558843557          1664   \n",
       "5          Miss Katy           24500000  15462895287          1079   \n",
       "3         Mister Max           24400000  15973601417          1136   \n",
       "\n",
       "   average_views  \n",
       "0      6920950.0  \n",
       "1      5337639.0  \n",
       "7     11153151.0  \n",
       "5     14330765.0  \n",
       "3     14061269.0  "
      ]
     },
     "execution_count": 30,
     "metadata": {},
     "output_type": "execute_result"
    }
   ],
   "source": [
    "Newdf.sort_values(by=['total_subscribers'],ascending=False).head()"
   ]
  },
  {
   "cell_type": "code",
   "execution_count": null,
   "id": "cc7792ab",
   "metadata": {},
   "outputs": [],
   "source": []
  }
 ],
 "metadata": {
  "kernelspec": {
   "display_name": "Python 3 (ipykernel)",
   "language": "python",
   "name": "python3"
  },
  "language_info": {
   "codemirror_mode": {
    "name": "ipython",
    "version": 3
   },
   "file_extension": ".py",
   "mimetype": "text/x-python",
   "name": "python",
   "nbconvert_exporter": "python",
   "pygments_lexer": "ipython3",
   "version": "3.11.7"
  }
 },
 "nbformat": 4,
 "nbformat_minor": 5
}
